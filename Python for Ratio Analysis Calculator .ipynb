{
 "cells": [
  {
   "cell_type": "code",
   "execution_count": 1,
   "id": "924b625f",
   "metadata": {},
   "outputs": [
    {
     "name": "stdout",
     "output_type": "stream",
     "text": [
      "Current Ratio: 3.0\n",
      "Quick Ratio: 2.2\n",
      "Debt to Equity Ratio: 0.6666666666666666\n",
      "Return on Assets (ROA): 0.1\n",
      "Return on Equity (ROE): 0.16666666666666666\n",
      "Gross Profit Margin: 0.4\n",
      "Net Profit Margin: 0.16666666666666666\n",
      "Asset Turnover Ratio: 0.6\n"
     ]
    }
   ],
   "source": [
    "# Import necessary libraries\n",
    "class RatioAnalysis:\n",
    "    def __init__(self, total_assets, total_liabilities, current_assets, current_liabilities, net_income, sales, shareholders_equity):\n",
    "        self.total_assets = total_assets\n",
    "        self.total_liabilities = total_liabilities\n",
    "        self.current_assets = current_assets\n",
    "        self.current_liabilities = current_liabilities\n",
    "        self.net_income = net_income\n",
    "        self.sales = sales\n",
    "        self.shareholders_equity = shareholders_equity\n",
    "\n",
    "    # 1. Current Ratio: Current Assets / Current Liabilities\n",
    "    def current_ratio(self):\n",
    "        return self.current_assets / self.current_liabilities if self.current_liabilities else 0\n",
    "\n",
    "    # 2. Quick Ratio: (Current Assets - Inventory) / Current Liabilities\n",
    "    def quick_ratio(self, inventory):\n",
    "        return (self.current_assets - inventory) / self.current_liabilities if self.current_liabilities else 0\n",
    "\n",
    "    # 3. Debt to Equity Ratio: Total Liabilities / Shareholders' Equity\n",
    "    def debt_to_equity_ratio(self):\n",
    "        return self.total_liabilities / self.shareholders_equity if self.shareholders_equity else 0\n",
    "\n",
    "    # 4. Return on Assets (ROA): Net Income / Total Assets\n",
    "    def return_on_assets(self):\n",
    "        return self.net_income / self.total_assets if self.total_assets else 0\n",
    "\n",
    "    # 5. Return on Equity (ROE): Net Income / Shareholders' Equity\n",
    "    def return_on_equity(self):\n",
    "        return self.net_income / self.shareholders_equity if self.shareholders_equity else 0\n",
    "\n",
    "    # 6. Gross Profit Margin: (Sales - Cost of Goods Sold) / Sales\n",
    "    def gross_profit_margin(self, cogs):\n",
    "        return (self.sales - cogs) / self.sales if self.sales else 0\n",
    "\n",
    "    # 7. Net Profit Margin: Net Income / Sales\n",
    "    def net_profit_margin(self):\n",
    "        return self.net_income / self.sales if self.sales else 0\n",
    "\n",
    "    # 8. Asset Turnover Ratio: Sales / Total Assets\n",
    "    def asset_turnover_ratio(self):\n",
    "        return self.sales / self.total_assets if self.total_assets else 0\n",
    "\n",
    "# Example usage\n",
    "if __name__ == \"__main__\":\n",
    "    # Sample data (replace with actual values)\n",
    "    total_assets = 500000\n",
    "    total_liabilities = 200000\n",
    "    current_assets = 150000\n",
    "    current_liabilities = 50000\n",
    "    net_income = 50000\n",
    "    sales = 300000\n",
    "    shareholders_equity = 300000\n",
    "    inventory = 40000\n",
    "    cogs = 180000\n",
    "\n",
    "    # Initialize the RatioAnalysis class\n",
    "    ratios = RatioAnalysis(total_assets, total_liabilities, current_assets, current_liabilities, net_income, sales, shareholders_equity)\n",
    "\n",
    "    # Calculate and print various financial ratios\n",
    "    print(\"Current Ratio:\", ratios.current_ratio())\n",
    "    print(\"Quick Ratio:\", ratios.quick_ratio(inventory))\n",
    "    print(\"Debt to Equity Ratio:\", ratios.debt_to_equity_ratio())\n",
    "    print(\"Return on Assets (ROA):\", ratios.return_on_assets())\n",
    "    print(\"Return on Equity (ROE):\", ratios.return_on_equity())\n",
    "    print(\"Gross Profit Margin:\", ratios.gross_profit_margin(cogs))\n",
    "    print(\"Net Profit Margin:\", ratios.net_profit_margin())\n",
    "    print(\"Asset Turnover Ratio:\", ratios.asset_turnover_ratio())\n"
   ]
  },
  {
   "cell_type": "code",
   "execution_count": null,
   "id": "ebc23edf",
   "metadata": {},
   "outputs": [],
   "source": []
  }
 ],
 "metadata": {
  "kernelspec": {
   "display_name": "Python 3 (ipykernel)",
   "language": "python",
   "name": "python3"
  },
  "language_info": {
   "codemirror_mode": {
    "name": "ipython",
    "version": 3
   },
   "file_extension": ".py",
   "mimetype": "text/x-python",
   "name": "python",
   "nbconvert_exporter": "python",
   "pygments_lexer": "ipython3",
   "version": "3.11.4"
  }
 },
 "nbformat": 4,
 "nbformat_minor": 5
}
